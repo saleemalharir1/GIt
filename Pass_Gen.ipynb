{
 "cells": [
  {
   "cell_type": "code",
   "execution_count": null,
   "metadata": {},
   "outputs": [],
   "source": [
    "# # Ask user for password length and character types\n",
    "# password_length = input(\"Enter desired password length: \")\n",
    "# use_lowercase = input(\"Use lowercase letters? (y/n): \")\n",
    "# use_uppercase = input(\"Use uppercase letters? (y/n): \")\n",
    "# use_numbers = input(\"Use numbers? (y/n): \")\n",
    "# use_symbols = input(\"Use symbols? (y/n): \")\n",
    "\n",
    "password_length = int(input(\"Enter Desired Password Length: \"))\n",
    "use_lowercase = input(\"Use lowercase letters? (y/n): \")\n",
    "use_uppercase = input(\"Use uppercase letters? (y/n): \")\n",
    "use_numbers = input(\"Use numbers? (y/n): \")\n",
    "use_symbols = input(\"Use Sybmols? (y/n): \")"
   ]
  },
  {
   "cell_type": "code",
   "execution_count": null,
   "metadata": {},
   "outputs": [],
   "source": [
    "# Define character sets based on user input\n",
    "\n",
    "import string\n",
    "\n",
    "lowercase_chars = string.ascii_lowercase\n",
    "uppercase_chars = string.ascii_uppercase\n",
    "number_chars = string.digits\n",
    "symbol_chars = string.punctuation"
   ]
  },
  {
   "cell_type": "code",
   "execution_count": null,
   "metadata": {},
   "outputs": [],
   "source": [
    "# Loop through desired password length and randomly choose characters from selected character sets\n",
    "import random\n",
    "\n",
    "password = \"\"\n",
    "\n",
    "while True:\n",
    "    if use_lowercase == \"y\" and len(password) < password_length:\n",
    "        password += random.choice(lowercase_chars)\n",
    "    if use_uppercase == \"y\" and len(password) < password_length:\n",
    "        password += random.choice(uppercase_chars)\n",
    "    if use_numbers == \"y\" and len(password) < password_length:\n",
    "        password += random.choice(number_chars)\n",
    "    if use_symbols == \"y\" and len(password) < password_length:\n",
    "        password += random.choice(symbol_chars)\n",
    "    if len(password) == password_length:\n",
    "        break\n",
    "\n",
    "print(\"Your password is:\", password)"
   ]
  }
 ],
 "metadata": {
  "language_info": {
   "name": "python"
  },
  "orig_nbformat": 4
 },
 "nbformat": 4,
 "nbformat_minor": 2
}
